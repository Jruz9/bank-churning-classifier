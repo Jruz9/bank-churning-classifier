{
 "cells": [
  {
   "cell_type": "markdown",
   "id": "1e6081a6",
   "metadata": {},
   "source": [
    "# Credit Card Churn Classifer"
   ]
  },
  {
   "cell_type": "markdown",
   "id": "a15fa839",
   "metadata": {},
   "source": [
    "## About:\n",
    "- "
   ]
  }
 ],
 "metadata": {
  "kernelspec": {
   "display_name": "Python 3 (ipykernel)",
   "language": "python",
   "name": "python3"
  },
  "language_info": {
   "codemirror_mode": {
    "name": "ipython",
    "version": 3
   },
   "file_extension": ".py",
   "mimetype": "text/x-python",
   "name": "python",
   "nbconvert_exporter": "python",
   "pygments_lexer": "ipython3",
   "version": "3.9.5"
  }
 },
 "nbformat": 4,
 "nbformat_minor": 5
}
